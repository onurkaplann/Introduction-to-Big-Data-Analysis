{
 "cells": [
  {
   "cell_type": "markdown",
   "metadata": {},
   "source": [
    "## Activity-3: Data analysis on SQLite"
   ]
  },
  {
   "cell_type": "markdown",
   "metadata": {},
   "source": [
    "#### Name/Surname: Onur Kaplan\n",
    "#### Dataset Name: NBA Players Stats - 2014-2015\n",
    "#### Dataset url: https://www.kaggle.com/drgilermo/nba-players-stats-20142015"
   ]
  },
  {
   "cell_type": "code",
   "execution_count": 3,
   "metadata": {},
   "outputs": [],
   "source": [
    "import sqlite3 as sql\n",
    "import pandas as pd\n",
    "conn= sql.connect(\"ka3database.db\")\n",
    "df= pd.read_csv (r'players_stats.csv')\n",
    "df.to_sql(\"Tablo\",conn,if_exists='replace')\n",
    "cur= conn.cursor()"
   ]
  },
  {
   "cell_type": "markdown",
   "metadata": {},
   "source": [
    "#### Problem 1: The length of time players play according to their age"
   ]
  },
  {
   "cell_type": "code",
   "execution_count": 4,
   "metadata": {},
   "outputs": [
    {
     "name": "stdout",
     "output_type": "stream",
     "text": [
      "(None, 1016.5294117647059)\n",
      "(20.0, 959.6)\n",
      "(21.0, 1140.2727272727273)\n",
      "(22.0, 1305.8)\n",
      "(23.0, 1134.0285714285715)\n",
      "(24.0, 821.76)\n",
      "(25.0, 1200.547619047619)\n",
      "(26.0, 1305.0285714285715)\n",
      "(27.0, 1315.6153846153845)\n",
      "(28.0, 1424.2)\n",
      "(29.0, 1567.3870967741937)\n",
      "(30.0, 1690.142857142857)\n",
      "(31.0, 1312.5)\n",
      "(32.0, 940.1875)\n",
      "(33.0, 1409.0714285714287)\n",
      "(34.0, 1137.2857142857142)\n",
      "(35.0, 1360.4705882352941)\n",
      "(36.0, 545.75)\n",
      "(37.0, 1430.5)\n",
      "(38.0, 1003.5)\n",
      "(39.0, 1477.3333333333333)\n"
     ]
    }
   ],
   "source": [
    "cur.execute(\"SELECT Age,AVG(Min) From Tablo Group By Age\")\n",
    "rows= cur.fetchall()\n",
    "for row in rows:\n",
    "    print(row)"
   ]
  },
  {
   "cell_type": "markdown",
   "metadata": {},
   "source": [
    "#### Problem 2: Ranking of the score per minute by point guard (PG) role"
   ]
  },
  {
   "cell_type": "code",
   "execution_count": 104,
   "metadata": {},
   "outputs": [
    {
     "name": "stdout",
     "output_type": "stream",
     "text": [
      "('ATL', 743.0)\n",
      "('BOS', 600.3333333333334)\n",
      "('CHA', 640.0)\n",
      "('CHI', 929.0)\n",
      "('CLE', 821.5)\n",
      "('DAL', 496.8)\n",
      "('DEN', 644.5)\n",
      "('DET', 291.6666666666667)\n",
      "('GSW', 1180.5)\n",
      "('HOU', 568.0)\n",
      "('IND', 637.25)\n",
      "('LAC', 865.5)\n",
      "('LAL', 452.0)\n",
      "('MEM', 379.0)\n",
      "('MIA', 813.0)\n",
      "('MIL', 256.3333333333333)\n",
      "('MIN', 450.0)\n",
      "('NJN', 520.0)\n",
      "('NOH', 337.25)\n",
      "('NYK', 414.75)\n",
      "('OKC', 947.0)\n",
      "('ORL', 459.5)\n",
      "('PHI', 481.3333333333333)\n",
      "('PHO', 328.0)\n",
      "('POR', 709.0)\n",
      "('SAC', 412.0)\n",
      "('SAS', 620.6666666666666)\n",
      "('TOR', 1009.5)\n",
      "('UTA', 482.0)\n",
      "('WAS', 378.5)\n"
     ]
    }
   ],
   "source": [
    "cur.execute(\"SELECT Team,AVG(Pts) From Tablo WHERE Pos = 'PG' Group By Team\")\n",
    "rows= cur.fetchall()\n",
    "for row in rows:\n",
    "    print(row)"
   ]
  },
  {
   "cell_type": "markdown",
   "metadata": {},
   "source": [
    "#### Problem 3: The names of the top 30 players who score the most 3-point made and the number of 3-point made their score"
   ]
  },
  {
   "cell_type": "code",
   "execution_count": 105,
   "metadata": {},
   "outputs": [
    {
     "name": "stdout",
     "output_type": "stream",
     "text": [
      "('Stephen Curry', 286)\n",
      "('Klay Thompson', 239)\n",
      "('Kyle Korver', 221)\n",
      "('James Harden', 208)\n",
      "('JJ Redick', 200)\n",
      "('Damian Lillard', 196)\n",
      "('Trevor Ariza', 194)\n",
      "('Danny Green', 191)\n",
      "('Wesley Matthews', 173)\n",
      "('Robert Covington', 167)\n",
      "('JR Smith', 163)\n",
      "('Kyrie Irving', 157)\n",
      "('CJ Miles', 154)\n",
      "('Kentavious Caldwell-Pope', 153)\n",
      "('Lou Williams', 152)\n",
      "('Terrence Ross', 145)\n",
      "('Kevin Love', 144)\n",
      "('Anthony Morrow', 141)\n",
      "('Eric Gordon', 141)\n",
      "('Ben McLemore', 140)\n",
      "('Chris Paul', 139)\n",
      "('Wilson Chandler', 139)\n",
      "('Gerald Green', 137)\n",
      "('Channing Frye', 136)\n",
      "('Matt Barnes', 136)\n",
      "('Greivis Vasquez', 133)\n",
      "('Chandler Parsons', 132)\n",
      "('Kyle Lowry', 132)\n",
      "('Isaiah Thomas', 129)\n",
      "('Jason Terry', 126)\n"
     ]
    }
   ],
   "source": [
    "cur.execute(\"SELECT Name,\\\"3PM\\\" FROM Tablo Order By \\\"3PM\\\" Desc Limit 30\")\n",
    "rows= cur.fetchall()\n",
    "for row in rows:\n",
    "    print(row)"
   ]
  },
  {
   "cell_type": "markdown",
   "metadata": {},
   "source": [
    "#### Problem 4: Top 30 ranking of the cities where players were born according to the number of matches"
   ]
  },
  {
   "cell_type": "code",
   "execution_count": 106,
   "metadata": {},
   "outputs": [
    {
     "name": "stdout",
     "output_type": "stream",
     "text": [
      "(None, 3295)\n",
      "('ar', 218)\n",
      "('au', 439)\n",
      "('ba', 94)\n",
      "('be', 77)\n",
      "('br', 199)\n",
      "('ca', 427)\n",
      "('cd', 64)\n",
      "('cg', 64)\n",
      "('ch', 213)\n",
      "('cm', 67)\n",
      "('de', 225)\n",
      "('do', 90)\n",
      "('es', 211)\n",
      "('fr', 445)\n",
      "('gb', 104)\n",
      "('ge', 73)\n",
      "('gf', 79)\n",
      "('gr', 124)\n",
      "('hr', 68)\n",
      "('ht', 32)\n",
      "('il', 71)\n",
      "('it', 227)\n",
      "('jm', 44)\n",
      "('lt', 151)\n",
      "('me', 82)\n",
      "('mk', 63)\n",
      "('mx', 20)\n",
      "('ng', 82)\n",
      "('nz', 140)\n",
      "('pl', 82)\n",
      "('pr', 77)\n",
      "('ru', 163)\n",
      "('se', 104)\n",
      "('si', 94)\n",
      "('sn', 73)\n",
      "('ss', 72)\n",
      "('tr', 175)\n",
      "('ua', 69)\n",
      "('us', 17421)\n",
      "('ve', 82)\n",
      "('vi', 77)\n"
     ]
    }
   ],
   "source": [
    "cur.execute(\"SELECT Birth_Place,SUM(\\\"Games Played\\\") FROM Tablo Group By Birth_Place\")\n",
    "rows= cur.fetchall()\n",
    "for row in rows:\n",
    "    print(row)"
   ]
  },
  {
   "cell_type": "markdown",
   "metadata": {},
   "source": [
    "#### Problem 5: The first 30 players to score successful 3-point made"
   ]
  },
  {
   "cell_type": "code",
   "execution_count": 107,
   "metadata": {},
   "outputs": [
    {
     "name": "stdout",
     "output_type": "stream",
     "text": [
      "('Cody Zeller', 1, 1, 100.0)\n",
      "('Bruno Caboclo', 2, 3, 66.66666666666666)\n",
      "('Dwight Buycks', 7, 11, 63.63636363636363)\n",
      "('Victor Claver', 6, 11, 54.54545454545454)\n",
      "('Luke Babbitt', 59, 115, 51.30434782608696)\n",
      "('David Stockton', 1, 2, 50.0)\n",
      "('Dwight Howard', 1, 2, 50.0)\n",
      "('Earl Barron', 2, 4, 50.0)\n",
      "('Jamaal Franklin', 1, 2, 50.0)\n",
      "('Jerel McNeal', 1, 2, 50.0)\n",
      "('Landry Fields', 1, 2, 50.0)\n",
      "('Lester Hudson', 3, 6, 50.0)\n",
      "('Kyle Korver', 221, 449, 49.220489977728285)\n",
      "('Jordan Hamilton', 10, 21, 47.61904761904761)\n",
      "('Tayshaun Prince', 31, 67, 46.26865671641791)\n",
      "('Pau Gasol', 12, 26, 46.15384615384615)\n",
      "('Gigi Datome', 18, 40, 45.0)\n",
      "('Eric Gordon', 141, 315, 44.761904761904766)\n",
      "('Elliot Williams', 8, 18, 44.44444444444444)\n",
      "('Stephen Curry', 286, 646, 44.27244582043344)\n",
      "('Klay Thompson', 239, 545, 43.853211009174316)\n",
      "('JJ Redick', 200, 458, 43.66812227074236)\n",
      "('Anthony Morrow', 141, 325, 43.38461538461538)\n",
      "('Hedo Turkoglu', 60, 139, 43.16546762589928)\n",
      "('Shannon Brown', 3, 7, 42.857142857142854)\n",
      "('Tony Parker', 38, 89, 42.69662921348314)\n",
      "('Richard Jefferson', 66, 155, 42.58064516129032)\n",
      "('Josh McRoberts', 8, 19, 42.10526315789473)\n",
      "('Meyers Leonard', 47, 112, 41.964285714285715)\n",
      "('Danny Green', 191, 457, 41.79431072210066)\n"
     ]
    }
   ],
   "source": [
    "cur.execute(\"SELECT Name,\\\"3PM\\\",\\\"3PA\\\",(CAST(\\\"3PM\\\" AS FLOAT) / \\\"3PA\\\" *100) AS ucluk FROM Tablo Order By ucluk Desc Limit 30\")\n",
    "rows= cur.fetchall()\n",
    "for row in rows:\n",
    "    print(row)"
   ]
  },
  {
   "cell_type": "markdown",
   "metadata": {},
   "source": [
    "#### Problem 6: Ranking of the total steals of universities"
   ]
  },
  {
   "cell_type": "code",
   "execution_count": 108,
   "metadata": {},
   "outputs": [
    {
     "name": "stdout",
     "output_type": "stream",
     "text": [
      "(None, 5181)\n",
      "('University of Kentucky', 800)\n",
      "('University of California, Los Angeles', 660)\n",
      "('Duke University', 647)\n",
      "('University of Kansas', 623)\n",
      "('University of North Carolina', 576)\n",
      "('University of Florida', 534)\n",
      "('Wake Forest University', 468)\n",
      "('University of Arizona', 401)\n",
      "('Michigan State University', 324)\n",
      "('University of Connecticut', 322)\n",
      "('Georgia Institute of Technology', 312)\n",
      "('Marquette University', 272)\n",
      "('Syracuse University', 269)\n",
      "('Oklahoma State University', 267)\n",
      "('University of Texas at Austin', 251)\n",
      "('University of Southern California', 236)\n",
      "('University of Memphis', 229)\n",
      "('Texas A&M University', 226)\n",
      "('University of Washington', 193)\n",
      "('Georgetown University', 193)\n",
      "('Villanova University', 189)\n",
      "('University of Michigan', 189)\n",
      "('University of Missouri', 187)\n",
      "('Indiana University', 174)\n",
      "('Davidson College', 163)\n",
      "('Ohio State University', 162)\n",
      "('Arizona State University', 162)\n",
      "('Louisiana State University', 156)\n",
      "('San Diego State University', 148)\n"
     ]
    }
   ],
   "source": [
    "cur.execute(\"SELECT Collage,SUM(STL) FROM Tablo Group By Collage Order By SUM(STL) Desc Limit 30\")\n",
    "rows= cur.fetchall()\n",
    "for row in rows:\n",
    "    print(row)"
   ]
  },
  {
   "cell_type": "markdown",
   "metadata": {},
   "source": [
    "#### Problem 7: The total points, assists, steals made by the top 2 players who played the most basketball games"
   ]
  },
  {
   "cell_type": "code",
   "execution_count": 109,
   "metadata": {},
   "outputs": [
    {
     "name": "stdout",
     "output_type": "stream",
     "text": [
      "('Josh Smith', 83, 1027, 277, 87)\n",
      "('Aaron Brooks', 82, 954, 261, 54)\n"
     ]
    }
   ],
   "source": [
    "cur.execute(\"SELECT Name,\\\"Games Played\\\",Pts,Ast,Stl FROM Tablo Order By \\\"Games Played\\\" Desc Limit 2\")\n",
    "rows= cur.fetchall()\n",
    "for row in rows:\n",
    "    print(row)"
   ]
  },
  {
   "cell_type": "markdown",
   "metadata": {},
   "source": [
    "#### Problem 8: Ranking of the total number of players by the universities they play"
   ]
  },
  {
   "cell_type": "code",
   "execution_count": 110,
   "metadata": {},
   "outputs": [
    {
     "name": "stdout",
     "output_type": "stream",
     "text": [
      "(None, 140)\n",
      "('Duke University', 18)\n",
      "('University of North Carolina', 15)\n",
      "('University of Kentucky', 15)\n",
      "('University of California, Los Angeles', 15)\n",
      "('University of Kansas', 13)\n",
      "('University of Florida', 11)\n",
      "('University of Arizona', 10)\n",
      "('University of Connecticut', 8)\n",
      "('Michigan State University', 8)\n",
      "('Marquette University', 7)\n",
      "('Georgia Institute of Technology', 7)\n",
      "('University of Texas at Austin', 6)\n",
      "('University of Michigan', 6)\n",
      "('University of Memphis', 6)\n",
      "('Syracuse University', 6)\n",
      "('Wake Forest University', 5)\n",
      "('University of Washington', 5)\n",
      "('University of Southern California', 5)\n",
      "('University of New Mexico', 5)\n",
      "('Louisiana State University', 5)\n",
      "('University of Nevada, Las Vegas', 4)\n",
      "('University of Missouri', 4)\n",
      "('University of Louisville', 4)\n",
      "('University of Colorado', 4)\n",
      "('University of Cincinnati', 4)\n",
      "('University of California', 4)\n",
      "('Stanford University', 4)\n",
      "('Oklahoma State University', 4)\n",
      "('Georgetown University', 4)\n",
      "('Baylor University', 4)\n",
      "('Wichita State University', 3)\n",
      "('Villanova University', 3)\n",
      "('Vanderbilt University', 3)\n",
      "('University of Wisconsin', 3)\n",
      "('University of Nevada, Reno', 3)\n",
      "('University of Maryland', 3)\n",
      "('University of Arkansas', 3)\n",
      "('University of Alabama', 3)\n",
      "('Texas A&M University', 3)\n",
      "('Purdue University', 3)\n",
      "('Ohio State University', 3)\n",
      "('Indiana University', 3)\n",
      "('Gonzaga University', 3)\n",
      "('California State University, Fresno', 3)\n",
      "('Western Kentucky University', 2)\n",
      "('Washington State University', 2)\n",
      "('University of Virginia', 2)\n",
      "('University of Utah', 2)\n",
      "('University of Tennessee', 2)\n",
      "('University of Pittsburgh', 2)\n",
      "('University of Oregon', 2)\n",
      "('University of Miami', 2)\n",
      "('University of Iowa', 2)\n",
      "('University of Detroit Mercy', 2)\n",
      "('University of Dayton', 2)\n",
      "('Towson University', 2)\n",
      "('San Diego State University', 2)\n",
      "(\"Saint Mary's College of California\", 2)\n",
      "(\"Saint Joseph's University\", 2)\n",
      "('North Carolina State University', 2)\n",
      "('Kansas State University', 2)\n",
      "('Florida State University', 2)\n",
      "('Creighton University', 2)\n",
      "('Clemson University', 2)\n",
      "('Butler University', 2)\n",
      "('Brigham Young University', 2)\n",
      "('Boston College', 2)\n",
      "('Arizona State University', 2)\n",
      "('Xavier University', 1)\n",
      "('Western Michigan University', 1)\n",
      "('Western Carolina University', 1)\n",
      "('Weber State University', 1)\n",
      "('Virginia Polytechnic Institute and State University', 1)\n",
      "('Virginia Commonwealth University', 1)\n",
      "('Utah Valley State College', 1)\n",
      "('University of Tulsa', 1)\n",
      "('University of Tennessee at Martin', 1)\n",
      "('University of Oklahoma', 1)\n",
      "('University of Notre Dame', 1)\n",
      "('University of Montana', 1)\n",
      "('University of Minnesota', 1)\n",
      "('University of Louisiana at Lafayette', 1)\n",
      "('University of Illinois at Urbana-Champaign', 1)\n",
      "('University of Georgia', 1)\n",
      "('Tennessee State University', 1)\n",
      "('Temple University', 1)\n",
      "(\"St. John's University\", 1)\n",
      "('St. Bonaventure University', 1)\n",
      "('Seton Hall University', 1)\n",
      "('Providence College', 1)\n",
      "('Pennsylvania State University', 1)\n",
      "('Oregon State University', 1)\n",
      "('Old Dominion University', 1)\n",
      "('Northeastern University', 1)\n",
      "('Norfolk State University', 1)\n",
      "('New Mexico State University', 1)\n",
      "('Murray State University', 1)\n",
      "('Morehead State University', 1)\n",
      "('Louisiana Tech University', 1)\n",
      "('Lehigh University', 1)\n",
      "('La Salle University', 1)\n",
      "('Indiana University-Purdue University Indianapolis', 1)\n",
      "('Harvard University', 1)\n",
      "('Eastern Washington University', 1)\n",
      "('DePaul University', 1)\n",
      "('Davidson College', 1)\n",
      "('Cleveland State University', 1)\n",
      "('Central Michigan University', 1)\n",
      "('California State University, Long Beach', 1)\n",
      "('Bucknell University', 1)\n",
      "('Blinn College', 1)\n",
      "('Belmont University', 1)\n"
     ]
    }
   ],
   "source": [
    "cur.execute(\"SELECT Collage,Count(Name) FROM Tablo Group By Collage Order By Count(Name) Desc\")\n",
    "rows= cur.fetchall()\n",
    "for row in rows:\n",
    "    print(row)"
   ]
  },
  {
   "cell_type": "markdown",
   "metadata": {},
   "source": [
    "#### Problem 9: Basketball roles with the most points / minute ratio"
   ]
  },
  {
   "cell_type": "code",
   "execution_count": 111,
   "metadata": {},
   "outputs": [
    {
     "name": "stdout",
     "output_type": "stream",
     "text": [
      "(None, 28327, 69124, 0.409799780105318)\n",
      "('C', 36301, 90914, 0.399289438370328)\n",
      "('PF', 43364, 104683, 0.4142410897662467)\n",
      "('PG', 46767, 110271, 0.42410969339173493)\n",
      "('SF', 37746, 96894, 0.38955972506037523)\n",
      "('SG', 53528, 123324, 0.4340436573578541)\n"
     ]
    }
   ],
   "source": [
    "cur.execute(\"SELECT Pos,SUM(Pts),SUM(Min),(cast(SUM(Pts) as float) / SUM(Min)) FROM Tablo Group By Pos\")\n",
    "rows= cur.fetchall()\n",
    "for row in rows:\n",
    "    print(row)"
   ]
  },
  {
   "cell_type": "markdown",
   "metadata": {},
   "source": [
    "#### Problem 10: The longest, shortest and average height of basketball players"
   ]
  },
  {
   "cell_type": "code",
   "execution_count": 112,
   "metadata": {},
   "outputs": [
    {
     "name": "stdout",
     "output_type": "stream",
     "text": [
      "(222.5, 172.5, 197.44075829383885)\n"
     ]
    }
   ],
   "source": [
    "cur.execute(\"SELECT MAX(Height),MIN(Height),AVG(Height) FROM Tablo\")\n",
    "rows= cur.fetchall()\n",
    "for row in rows:\n",
    "    print(row)"
   ]
  },
  {
   "cell_type": "markdown",
   "metadata": {},
   "source": [
    "#### Problem 11: Basketball players with a weight between 80 and 100"
   ]
  },
  {
   "cell_type": "code",
   "execution_count": 115,
   "metadata": {},
   "outputs": [
    {
     "name": "stdout",
     "output_type": "stream",
     "text": [
      "('Danny Granger', 99.9)\n",
      "('Donatas Motiejunas', 99.9)\n",
      "('Giannis Antetokounmpo', 99.9)\n",
      "('DeMar DeRozan', 99.45)\n",
      "('Nazr Mohammed', 99.45)\n",
      "('Aaron Gordon', 99.0)\n",
      "('Alan Anderson', 99.0)\n",
      "('Al-Farouq Aminu', 99.0)\n",
      "('Andrei Kirilenko', 99.0)\n",
      "('Austin Daye', 99.0)\n",
      "('Brandon Rush', 99.0)\n",
      "('Cartier Martin', 99.0)\n",
      "('Iman Shumpert', 99.0)\n",
      "('James Harden', 99.0)\n",
      "('Jason Richardson', 99.0)\n",
      "('Jimmy Butler', 99.0)\n",
      "('Joffrey Lauvergne', 99.0)\n",
      "('Jordan Hamilton', 99.0)\n",
      "('Lou Amundson', 99.0)\n",
      "('Luol Deng', 99.0)\n",
      "('Marcus Smart', 99.0)\n",
      "('Nikola Mirotic', 99.0)\n",
      "('Paul George', 99.0)\n",
      "('Quincy Pondexter', 99.0)\n",
      "('Shawn Marion', 99.0)\n",
      "('Thabo Sefolosha', 99.0)\n",
      "('Tyreke Evans', 99.0)\n",
      "('Vince Carter', 99.0)\n",
      "('Wesley Matthews', 99.0)\n",
      "('Xavier Henry', 99.0)\n",
      "('Joe Harris', 98.55)\n",
      "('Bruno Caboclo', 98.1)\n",
      "('Cory Jefferson', 98.1)\n",
      "('James Jones', 98.1)\n",
      "('Mike Miller', 98.1)\n",
      "('Greivis Vasquez', 97.65)\n",
      "('Bojan Bogdanovic', 97.2)\n",
      "('Andre Dawkins', 96.75)\n",
      "('Andre Iguodala', 96.75)\n",
      "('Danny Green', 96.75)\n",
      "('DeMarre Carroll', 96.75)\n",
      "('Eric Gordon', 96.75)\n",
      "('Gerald Henderson', 96.75)\n",
      "('Jabari Brown', 96.75)\n",
      "('John Jenkins', 96.75)\n",
      "('Klay Thompson', 96.75)\n",
      "('Maurice Harkless', 96.75)\n",
      "('Rasual Butler', 96.75)\n",
      "('Robbie Hummel', 96.75)\n",
      "('Robert Covington', 96.75)\n",
      "('Trevor Ariza', 96.75)\n",
      "('Wesley Johnson', 96.75)\n",
      "('Alec Burks', 96.3)\n",
      "('Nick Calathes', 95.85)\n",
      "('Randy Foye', 95.85)\n",
      "('Tony Allen', 95.85)\n",
      "('Kobe Bryant', 95.4)\n",
      "('Kyle Korver', 95.4)\n",
      "('Tayshaun Prince', 95.4)\n",
      "('Allen Crabbe', 94.5)\n",
      "('Andre Roberson', 94.5)\n",
      "('Anthony Morrow', 94.5)\n",
      "('Arron Afflalo', 94.5)\n",
      "('Cleanthony Early', 94.5)\n",
      "('Gary Harris', 94.5)\n",
      "('Gary Neal', 94.5)\n",
      "('Harrison Barnes', 94.5)\n",
      "('James Ennis III', 94.5)\n",
      "('Jerami Grant', 94.5)\n",
      "('Jodie Meeks', 94.5)\n",
      "('Landry Fields', 94.5)\n",
      "('Marco Belinelli', 94.5)\n",
      "('O.J. Mayo', 94.5)\n",
      "('Quincy Miller', 94.5)\n",
      "('Rodney Stuckey', 94.5)\n",
      "('Sean Kilpatrick', 94.5)\n",
      "('Victor Oladipo', 94.5)\n",
      "('Chase Budinger', 94.05)\n",
      "('Jordan Adams', 94.05)\n",
      "('Patrick Christopher', 94.05)\n",
      "('Reggie Jackson', 93.6)\n",
      "('Sergey Karasev', 93.6)\n",
      "('Bradley Beal', 93.15)\n",
      "('Chris Johnson', 92.7)\n",
      "('Glen Rice', 92.7)\n",
      "('Rodney Hood', 92.7)\n",
      "('Terrence Ross', 92.7)\n",
      "('Donald Sloan', 92.25)\n",
      "('Evan Fournier', 92.25)\n",
      "('Gerald Green', 92.25)\n",
      "('Jrue Holiday', 92.25)\n",
      "('Kentavious Caldwell-Pope', 92.25)\n",
      "('KJ McDaniels', 92.25)\n",
      "('Manu Ginobili', 92.25)\n",
      "('Nik Stauskas', 92.25)\n",
      "('Raymond Felton', 92.25)\n",
      "('Reggie Bullock', 92.25)\n",
      "('Shannon Brown', 92.25)\n",
      "('Tim Hardaway Jr.', 92.25)\n",
      "('Troy Daniels', 92.25)\n",
      "('Shelvin Mack', 91.35)\n",
      "('Nick Johnson', 90.9)\n",
      "('Isaiah Canaan', 90.45)\n",
      "('Kent Bazemore', 90.45)\n",
      "('Andre Miller', 90.0)\n",
      "('Archie Goodwin', 90.0)\n",
      "('Austin Rivers', 90.0)\n",
      "('Ben Gordon', 90.0)\n",
      "('Chris Douglas-Roberts', 90.0)\n",
      "('CJ McCollum', 90.0)\n",
      "('Courtney Lee', 90.0)\n",
      "('Devyn Marble', 90.0)\n",
      "('Jamal Crawford', 90.0)\n",
      "('Jarrett Jack', 90.0)\n",
      "('Jerel McNeal', 90.0)\n",
      "('Jeremy Evans', 90.0)\n",
      "('Jeremy Lin', 90.0)\n",
      "('Jerryd Bayless', 90.0)\n",
      "('Jose Calderon', 90.0)\n",
      "('Kendall Marshall', 90.0)\n",
      "('Langston Galloway', 90.0)\n",
      "('Malcolm Thomas', 90.0)\n",
      "('Nicolas Batum', 90.0)\n",
      "('Spencer Dinwiddie', 90.0)\n",
      "('Tony Snell', 90.0)\n",
      "('Vander Blue', 90.0)\n",
      "('Wayne Ellington', 90.0)\n",
      "('Willie Green', 90.0)\n",
      "('Zoran Dragic', 90.0)\n",
      "('Kevin Martin', 89.55)\n",
      "('Matthew Dellavedova', 89.1)\n",
      "('Mo Williams', 89.1)\n",
      "('Otto Porter Jr.', 89.1)\n",
      "('Kyle Lowry', 88.2)\n",
      "('Ben McLemore', 87.75)\n",
      "('Damian Lillard', 87.75)\n",
      "('Francisco Garcia', 87.75)\n",
      "('Garrett Temple', 87.75)\n",
      "('Jared Cunningham', 87.75)\n",
      "('Jimmer Fredette', 87.75)\n",
      "('Kalin Lucas', 87.75)\n",
      "('Ricky Rubio', 87.75)\n",
      "('Toney Douglas', 87.75)\n",
      "(\"Toure' Murry\", 87.75)\n",
      "('Ty Lawson', 87.75)\n",
      "('Jordan Clarkson', 87.3)\n",
      "('Leandro Barbosa', 87.3)\n",
      "('Tyler Ennis', 87.3)\n",
      "('Cory Joseph', 86.85)\n",
      "('Kyrie Irving', 86.85)\n",
      "('Devin Harris', 86.4)\n",
      "('Shaun Livingston', 86.4)\n",
      "(\"E'Twaun Moore\", 85.95)\n",
      "('Gal Mekel', 85.95)\n",
      "('Jamaal Franklin', 85.95)\n",
      "('Jorge Gutierrez', 85.95)\n",
      "('Trey Burke', 85.95)\n",
      "('Alexey Shved', 85.5)\n",
      "('Dante Exum', 85.5)\n",
      "('Darius Morris', 85.5)\n",
      "('Derrick Rose', 85.5)\n",
      "('Dwight Buycks', 85.5)\n",
      "('Eric Bledsoe', 85.5)\n",
      "('Goran Dragic', 85.5)\n",
      "('Jameer Nelson', 85.5)\n",
      "('JJ Redick', 85.5)\n",
      "('Kirk Hinrich', 85.5)\n",
      "('Lester Hudson', 85.5)\n",
      "('Mario Chalmers', 85.5)\n",
      "('Markel Brown', 85.5)\n",
      "('Michael Carter-Williams', 85.5)\n",
      "('Ramon Sessions', 85.5)\n",
      "('Ray McCallum', 85.5)\n",
      "('Ronnie Price', 85.5)\n",
      "('Stephen Curry', 85.5)\n",
      "('Brandon Knight', 85.05)\n",
      "('Lorenzo Brown', 85.05)\n",
      "('Zach LaVine', 85.05)\n",
      "('George Hill', 84.6)\n",
      "('Corey Brewer', 83.7)\n",
      "('Jeff Teague', 83.7)\n",
      "('Rajon Rondo', 83.7)\n",
      "('Tyler Johnson', 83.7)\n",
      "('Elfrid Payton', 83.25)\n",
      "('Erick Green', 83.25)\n",
      "('Isaiah Thomas', 83.25)\n",
      "('J.J. Barea', 83.25)\n",
      "('Jeremy Lamb', 83.25)\n",
      "('Justin Holiday', 83.25)\n",
      "('Monta Ellis', 83.25)\n",
      "('Pablo Prigioni', 83.25)\n",
      "('Patrick Beverley', 83.25)\n",
      "('Patty Mills', 83.25)\n",
      "('Seth Curry', 83.25)\n",
      "('Tony Parker', 83.25)\n",
      "('Will Bynum', 83.25)\n",
      "('Will Cherry', 83.25)\n",
      "('D.J. Augustin', 82.35)\n",
      "('AJ Price', 81.45)\n",
      "('Avery Bradley', 81.0)\n",
      "('Jordan Farmar', 81.0)\n",
      "('Larry Drew II', 81.0)\n"
     ]
    }
   ],
   "source": [
    "cur.execute(\"SELECT Name,Weight FROM Tablo WHERE Weight BETWEEN 80 and 100 Order By Weight Desc\")\n",
    "rows= cur.fetchall()\n",
    "for row in rows:\n",
    "    print(row)"
   ]
  },
  {
   "cell_type": "markdown",
   "metadata": {},
   "source": [
    "#### Problem 12: Top 5 scorer players of the top 5 scorer teams"
   ]
  },
  {
   "cell_type": "code",
   "execution_count": 124,
   "metadata": {},
   "outputs": [
    {
     "name": "stdout",
     "output_type": "stream",
     "text": [
      "('Stephen Curry', 'GSW', 1900)\n",
      "('Damian Lillard', 'POR', 1720)\n",
      "('Klay Thompson', 'GSW', 1668)\n",
      "('LaMarcus Aldridge', 'POR', 1661)\n",
      "('Anthony Davis', 'NOH', 1656)\n"
     ]
    }
   ],
   "source": [
    "cur.execute(\"SELECT Name,Team,Pts FROM Tablo WHERE Team IN(SELECT Team FROM Tablo GROUP BY Team ORDER BY SUM(Pts) DESC LIMIT 5) ORDER BY Pts DESC LIMIT 5\")\n",
    "rows= cur.fetchall()\n",
    "for row in rows:\n",
    "    print(row)\n"
   ]
  },
  {
   "cell_type": "markdown",
   "metadata": {},
   "source": [
    "#### Problem 13: Players whose names are start with 'Al'"
   ]
  },
  {
   "cell_type": "code",
   "execution_count": 126,
   "metadata": {},
   "outputs": [
    {
     "name": "stdout",
     "output_type": "stream",
     "text": [
      "('Al Horford',)\n",
      "('Al Jefferson',)\n",
      "('Alan Anderson',)\n",
      "('Alec Burks',)\n",
      "('Alex Kirk',)\n",
      "('Alex Len',)\n",
      "('Alexey Shved',)\n",
      "('Alexis Ajinca',)\n",
      "('Al-Farouq Aminu',)\n",
      "('Allen Crabbe',)\n",
      "('Alonzo Gee',)\n"
     ]
    }
   ],
   "source": [
    "cur.execute(\"SELECT Name FROM Tablo WHERE Name LIKE 'Al%'\")\n",
    "rows= cur.fetchall()\n",
    "for row in rows:\n",
    "    print(row)"
   ]
  },
  {
   "cell_type": "markdown",
   "metadata": {},
   "source": [
    "#### Problem 14: Finding the number of players by roles"
   ]
  },
  {
   "cell_type": "code",
   "execution_count": 127,
   "metadata": {},
   "outputs": [
    {
     "name": "stdout",
     "output_type": "stream",
     "text": [
      "(None, 68)\n",
      "('C', 72)\n",
      "('PF', 90)\n",
      "('PG', 84)\n",
      "('SF', 76)\n",
      "('SG', 100)\n"
     ]
    }
   ],
   "source": [
    "cur.execute(\"SELECT Pos,COUNT(Name) FROM Tablo GROUP BY Pos\")\n",
    "rows= cur.fetchall()\n",
    "for row in rows:\n",
    "    print(row)"
   ]
  },
  {
   "cell_type": "markdown",
   "metadata": {},
   "source": [
    "#### Problem 15: GSW team's average weight"
   ]
  },
  {
   "cell_type": "code",
   "execution_count": 129,
   "metadata": {},
   "outputs": [
    {
     "name": "stdout",
     "output_type": "stream",
     "text": [
      "(100.41000000000001,)\n"
     ]
    }
   ],
   "source": [
    "cur.execute(\"SELECT AVG(weight) FROM Tablo WHERE team='GSW'\")\n",
    "rows= cur.fetchall()\n",
    "for row in rows:\n",
    "    print(row)"
   ]
  }
 ],
 "metadata": {
  "kernelspec": {
   "display_name": "Python 3",
   "language": "python",
   "name": "python3"
  },
  "language_info": {
   "codemirror_mode": {
    "name": "ipython",
    "version": 3
   },
   "file_extension": ".py",
   "mimetype": "text/x-python",
   "name": "python",
   "nbconvert_exporter": "python",
   "pygments_lexer": "ipython3",
   "version": "3.7.4"
  }
 },
 "nbformat": 4,
 "nbformat_minor": 2
}
